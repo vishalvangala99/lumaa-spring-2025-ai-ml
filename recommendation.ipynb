{
 "cells": [
  {
   "cell_type": "code",
   "execution_count": 1,
   "metadata": {},
   "outputs": [],
   "source": [
    "import pandas as pd\n",
    "from sklearn.feature_extraction.text import TfidfVectorizer\n",
    "from sklearn.metrics.pairwise import cosine_similarity"
   ]
  },
  {
   "cell_type": "code",
   "execution_count": 2,
   "metadata": {},
   "outputs": [],
   "source": [
    "file_path = \"wiki_movie_plots_deduped.csv\"\n",
    "df = pd.read_csv(file_path)"
   ]
  },
  {
   "cell_type": "code",
   "execution_count": 3,
   "metadata": {},
   "outputs": [],
   "source": [
    "df = df[['Title', 'Plot']].dropna()"
   ]
  },
  {
   "cell_type": "code",
   "execution_count": 4,
   "metadata": {},
   "outputs": [],
   "source": [
    "vectorizer = TfidfVectorizer(stop_words='english')\n",
    "tfidf_matrix = vectorizer.fit_transform(df['Plot'])"
   ]
  },
  {
   "cell_type": "code",
   "execution_count": 5,
   "metadata": {},
   "outputs": [],
   "source": [
    "def recommend_movies_by_description(user_input, num_recommendations=5):\n",
    "    user_tfidf = vectorizer.transform([user_input])\n",
    "    similarities = cosine_similarity(user_tfidf, tfidf_matrix)\n",
    "    sim_scores = list(enumerate(similarities[0]))\n",
    "    sim_scores = sorted(sim_scores, key=lambda x: x[1], reverse=True)[:num_recommendations]\n",
    "    \n",
    "    recommended_movies = [df.iloc[i[0]]['Title'] for i in sim_scores]\n",
    "    return recommended_movies"
   ]
  },
  {
   "cell_type": "code",
   "execution_count": 7,
   "metadata": {},
   "outputs": [
    {
     "name": "stdout",
     "output_type": "stream",
     "text": [
      "Recommended movies: ['Min & Max', 'I Was a Teenage Zombie', 'The Boy Friend', 'A Saloon Wet with Beautiful Women', 'Yellow Sands']\n"
     ]
    }
   ],
   "source": [
    "user_query = \"Romance movies with comedy\"\n",
    "print(\"Recommended movies:\", recommend_movies_by_description(user_query))"
   ]
  },
  {
   "cell_type": "code",
   "execution_count": null,
   "metadata": {},
   "outputs": [],
   "source": []
  }
 ],
 "metadata": {
  "kernelspec": {
   "display_name": "Python 3",
   "language": "python",
   "name": "python3"
  },
  "language_info": {
   "codemirror_mode": {
    "name": "ipython",
    "version": 3
   },
   "file_extension": ".py",
   "mimetype": "text/x-python",
   "name": "python",
   "nbconvert_exporter": "python",
   "pygments_lexer": "ipython3",
   "version": "3.9.6"
  }
 },
 "nbformat": 4,
 "nbformat_minor": 2
}
